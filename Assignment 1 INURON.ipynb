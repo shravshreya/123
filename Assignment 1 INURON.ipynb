{
 "cells": [
  {
   "cell_type": "code",
   "execution_count": 2,
   "id": "d8353d43",
   "metadata": {},
   "outputs": [],
   "source": [
    "#1. In the below elements which of them are values or an expression?\n",
    "#eg:- values can be integer or string and expressions will be mathematical operators.\n",
    "\n",
    "#  *              Expression \n",
    "#  'hello'        Values\n",
    "# -87.8           Values\n",
    "#   -             Expression\n",
    "#   /             Expression \n",
    "#   +\t          Expression\n",
    "#   6             Values\n"
   ]
  },
  {
   "cell_type": "code",
   "execution_count": 3,
   "id": "a275aa68",
   "metadata": {},
   "outputs": [],
   "source": [
    "# 2. What is the difference between string and variable?\n",
    "#  Variable is the storage for the information . \n",
    "# String is the type of inoformation that you would like to store."
   ]
  },
  {
   "cell_type": "code",
   "execution_count": 5,
   "id": "881b46c0",
   "metadata": {},
   "outputs": [],
   "source": [
    "# 3. Describe three different data types.\n",
    "# 1) Int – It stores the integers values that can be positive or negative and do not contain any decimal point. \n",
    "# 2) Float – These are floating-point real numbers that stores the decimal values.\n",
    "#    It consists of integer and fraction parts.\n",
    "# 3) Complex – These are complex numbers specified as a real part and an imaginary part."
   ]
  },
  {
   "cell_type": "code",
   "execution_count": 4,
   "id": "42ad4011",
   "metadata": {},
   "outputs": [],
   "source": [
    "# 4. What is an expression made up of? What do all expressions do?\n",
    "# Expression: An expression is a combination of operators, \n",
    "# constants and variables.\n",
    "# An expression may consist of one or more operands,and zero or more operators to produce a value."
   ]
  },
  {
   "cell_type": "code",
   "execution_count": 6,
   "id": "321c2a0d",
   "metadata": {},
   "outputs": [],
   "source": [
    "# 5. This assignment statements, like spam = 10. What is the difference between an expression and a statement?\n",
    "#  Expression is made up of values, containers, and mathematical operators (operands) and the statement is just like a \n",
    "#  command that a python interpreter executes like print."
   ]
  },
  {
   "cell_type": "code",
   "execution_count": 28,
   "id": "768fcd0e",
   "metadata": {},
   "outputs": [],
   "source": [
    "# 6. After running the following code, what does the variable bacon contain?\n",
    "bacon = 22\n",
    "\n"
   ]
  },
  {
   "cell_type": "code",
   "execution_count": 30,
   "id": "fa8e0c6e",
   "metadata": {},
   "outputs": [
    {
     "data": {
      "text/plain": [
       "23"
      ]
     },
     "execution_count": 30,
     "metadata": {},
     "output_type": "execute_result"
    }
   ],
   "source": [
    "bacon + 1"
   ]
  },
  {
   "cell_type": "code",
   "execution_count": 14,
   "id": "103fa07d",
   "metadata": {},
   "outputs": [],
   "source": [
    "#  7. What should the values of the following two terms be?\n",
    "\n"
   ]
  },
  {
   "cell_type": "code",
   "execution_count": 16,
   "id": "64b876ca",
   "metadata": {},
   "outputs": [
    {
     "data": {
      "text/plain": [
       "'spamspamspam'"
      ]
     },
     "execution_count": 16,
     "metadata": {},
     "output_type": "execute_result"
    }
   ],
   "source": [
    " a= 'spam' + 'spamspam'\n",
    " a"
   ]
  },
  {
   "cell_type": "code",
   "execution_count": 22,
   "id": "631de20d",
   "metadata": {},
   "outputs": [
    {
     "data": {
      "text/plain": [
       "'spamspamspam'"
      ]
     },
     "execution_count": 22,
     "metadata": {},
     "output_type": "execute_result"
    }
   ],
   "source": [
    "b= 'spam' * 3\n",
    "b"
   ]
  },
  {
   "cell_type": "code",
   "execution_count": 23,
   "id": "ac83e152",
   "metadata": {},
   "outputs": [],
   "source": [
    "#8. Why is eggs a valid variable name while 100 is invalid?"
   ]
  },
  {
   "cell_type": "code",
   "execution_count": null,
   "id": "2467265a",
   "metadata": {},
   "outputs": [],
   "source": [
    "# Eggs does not contain number. Variable name should always starts with the alphabet. "
   ]
  },
  {
   "cell_type": "code",
   "execution_count": null,
   "id": "126a9bd6",
   "metadata": {},
   "outputs": [],
   "source": [
    "# 9. What three functions can be used to get the integer, floating-point number, or string version of a value?"
   ]
  },
  {
   "cell_type": "code",
   "execution_count": 31,
   "id": "b5c47d4d",
   "metadata": {},
   "outputs": [],
   "source": [
    "# int () , float(), string()"
   ]
  },
  {
   "cell_type": "code",
   "execution_count": 33,
   "id": "a5b91098",
   "metadata": {},
   "outputs": [],
   "source": [
    "#10. Why does this expression cause an error? How can you fix it?\n"
   ]
  },
  {
   "cell_type": "code",
   "execution_count": 34,
   "id": "1d8d38fd",
   "metadata": {},
   "outputs": [
    {
     "ename": "TypeError",
     "evalue": "can only concatenate str (not \"int\") to str",
     "output_type": "error",
     "traceback": [
      "\u001b[1;31m---------------------------------------------------------------------------\u001b[0m",
      "\u001b[1;31mTypeError\u001b[0m                                 Traceback (most recent call last)",
      "\u001b[1;32m<ipython-input-34-d24137131a5c>\u001b[0m in \u001b[0;36m<module>\u001b[1;34m\u001b[0m\n\u001b[1;32m----> 1\u001b[1;33m \u001b[1;34m'I have eaten '\u001b[0m \u001b[1;33m+\u001b[0m \u001b[1;36m99\u001b[0m \u001b[1;33m+\u001b[0m \u001b[1;34m' burritos.'\u001b[0m\u001b[1;33m\u001b[0m\u001b[1;33m\u001b[0m\u001b[0m\n\u001b[0m",
      "\u001b[1;31mTypeError\u001b[0m: can only concatenate str (not \"int\") to str"
     ]
    }
   ],
   "source": [
    "'I have eaten ' + 99 + ' burritos.'\n"
   ]
  },
  {
   "cell_type": "code",
   "execution_count": 35,
   "id": "6ebafb8f",
   "metadata": {},
   "outputs": [
    {
     "data": {
      "text/plain": [
       "'I have eaten 99 burritos.'"
      ]
     },
     "execution_count": 35,
     "metadata": {},
     "output_type": "execute_result"
    }
   ],
   "source": [
    "'I have eaten ' + \"99\" + ' burritos.'\n"
   ]
  }
 ],
 "metadata": {
  "kernelspec": {
   "display_name": "Python 3",
   "language": "python",
   "name": "python3"
  },
  "language_info": {
   "codemirror_mode": {
    "name": "ipython",
    "version": 3
   },
   "file_extension": ".py",
   "mimetype": "text/x-python",
   "name": "python",
   "nbconvert_exporter": "python",
   "pygments_lexer": "ipython3",
   "version": "3.8.8"
  }
 },
 "nbformat": 4,
 "nbformat_minor": 5
}
